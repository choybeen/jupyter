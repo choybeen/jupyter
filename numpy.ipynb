{
 "cells": [
  {
   "cell_type": "code",
   "execution_count": 2,
   "metadata": {},
   "outputs": [
    {
     "name": "stdout",
     "output_type": "stream",
     "text": [
      "[[1.+0.j 2.+0.j 3.+0.j 4.+0.j]\n",
      " [5.+0.j 6.+0.j 7.+0.j 8.+0.j]]\n"
     ]
    }
   ],
   "source": [
    "import numpy as np\n",
    "import matplotlib.pylab as plt\n",
    "from numpy import linalg as LA\n",
    "a = np.array([[1,2,3,4], [5,6,7,8]], \"complex\")\n",
    "print(a)"
   ]
  },
  {
   "cell_type": "code",
   "execution_count": 11,
   "metadata": {},
   "outputs": [
    {
     "name": "stdout",
     "output_type": "stream",
     "text": [
      "[0 1 2 3 4 5 6 7 8 9]\n",
      "[ 1.  4.  7. 10. 13. 16. 19.]\n",
      "[ 1.  4.  7. 10. 13. 16. 19.]\n"
     ]
    }
   ],
   "source": [
    "b = np.arange(10)\n",
    "print(b)\n",
    "b = np.arange(1.0,20,3)\n",
    "print(b)\n",
    "b = np.arange(1,20,3, dtype=\"float\")\n",
    "print(b)"
   ]
  },
  {
   "cell_type": "code",
   "execution_count": 19,
   "metadata": {},
   "outputs": [
    {
     "name": "stdout",
     "output_type": "stream",
     "text": [
      "[0. 0. 0. 0. 0.]\n",
      "[0 0 0 0 0]\n",
      "[[0. 0. 0.]\n",
      " [0. 0. 0.]]\n"
     ]
    }
   ],
   "source": [
    "c = np.zeros(5)\n",
    "print(c)\n",
    "c = np.zeros(5,dtype=\"int\")\n",
    "print(c)\n",
    "c = np.zeros((2,3))\n",
    "print(c)\n"
   ]
  },
  {
   "cell_type": "code",
   "execution_count": 31,
   "metadata": {},
   "outputs": [
    {
     "name": "stdout",
     "output_type": "stream",
     "text": [
      "[[1. 1. 1.]\n",
      " [1. 1. 1.]]\n",
      "[[1. 1. 1.]\n",
      " [1. 1. 1.]]\n",
      "[[17143552      514        0]\n",
      " [       0        1  4587552]]\n"
     ]
    }
   ],
   "source": [
    "d = np.ones((2,3))\n",
    "print(d)\n",
    "e = np.empty((2,3))\n",
    "print(e)\n",
    "e = np.empty((2,3), dtype=\"int\")\n",
    "print(e)\n"
   ]
  },
  {
   "cell_type": "code",
   "execution_count": 46,
   "metadata": {},
   "outputs": [
    {
     "name": "stdout",
     "output_type": "stream",
     "text": [
      "(array([ 1.        ,  1.18367347,  1.36734694,  1.55102041,  1.73469388,\n",
      "        1.91836735,  2.10204082,  2.28571429,  2.46938776,  2.65306122,\n",
      "        2.83673469,  3.02040816,  3.20408163,  3.3877551 ,  3.57142857,\n",
      "        3.75510204,  3.93877551,  4.12244898,  4.30612245,  4.48979592,\n",
      "        4.67346939,  4.85714286,  5.04081633,  5.2244898 ,  5.40816327,\n",
      "        5.59183673,  5.7755102 ,  5.95918367,  6.14285714,  6.32653061,\n",
      "        6.51020408,  6.69387755,  6.87755102,  7.06122449,  7.24489796,\n",
      "        7.42857143,  7.6122449 ,  7.79591837,  7.97959184,  8.16326531,\n",
      "        8.34693878,  8.53061224,  8.71428571,  8.89795918,  9.08163265,\n",
      "        9.26530612,  9.44897959,  9.63265306,  9.81632653, 10.        ]), 0.1836734693877551)\n",
      "(array([ 1.,  2.,  3.,  4.,  5.,  6.,  7.,  8.,  9., 10.]), 1.0)\n",
      "[2.  2.2 2.4 2.6 2.8 3. ]\n",
      "[2.   2.25 2.5  2.75 3.  ]\n",
      "[2.  2.2 2.4 2.6 2.8]\n",
      "(array([2.  , 2.25, 2.5 , 2.75, 3.  ]), 0.25)\n"
     ]
    }
   ],
   "source": [
    "f = np.linspace(1,10,retstep=True)\n",
    "print(f)\n",
    "f = np.linspace(1,10,num=10,retstep=True)\n",
    "print(f)\n",
    "f = np.linspace(2,3,num=6)\n",
    "print(f)\n",
    "f = np.linspace(2,3,num=5)\n",
    "print(f)\n",
    "f = np.linspace(2,3,num=5,endpoint=False)\n",
    "print(f)\n",
    "f = np.linspace(2,3,num=5,retstep=True)\n",
    "print(f)\n"
   ]
  },
  {
   "cell_type": "code",
   "execution_count": 66,
   "metadata": {},
   "outputs": [
    {
     "name": "stdout",
     "output_type": "stream",
     "text": [
      "[[1. 0. 0. 0. 0.]\n",
      " [0. 1. 0. 0. 0.]\n",
      " [0. 0. 1. 0. 0.]\n",
      " [0. 0. 0. 1. 0.]\n",
      " [0. 0. 0. 0. 1.]]\n",
      "[[1 0 0 0 0 0]\n",
      " [0 1 0 0 0 0]\n",
      " [0 0 1 0 0 0]\n",
      " [0 0 0 1 0 0]\n",
      " [0 0 0 0 1 0]]\n",
      "[[0. 1. 0. 0. 0. 0.]\n",
      " [0. 0. 1. 0. 0. 0.]\n",
      " [0. 0. 0. 1. 0. 0.]\n",
      " [0. 0. 0. 0. 1. 0.]\n",
      " [0. 0. 0. 0. 0. 1.]]\n",
      "[[0. 0. 1. 0. 0. 0.]\n",
      " [0. 0. 0. 1. 0. 0.]\n",
      " [0. 0. 0. 0. 1. 0.]\n",
      " [0. 0. 0. 0. 0. 1.]\n",
      " [0. 0. 0. 0. 0. 0.]]\n"
     ]
    }
   ],
   "source": [
    "g = np.eye(5)\n",
    "print(g)\n",
    "g = np.eye(5,6,dtype=int)\n",
    "print(g)\n",
    "g = np.eye(5,6,1)\n",
    "print(g)\n",
    "g = np.eye(5,6,2)\n",
    "print(g)"
   ]
  },
  {
   "cell_type": "code",
   "execution_count": 70,
   "metadata": {},
   "outputs": [
    {
     "name": "stdout",
     "output_type": "stream",
     "text": [
      "[[1 0 0]\n",
      " [0 1 0]\n",
      " [0 0 1]]\n"
     ]
    }
   ],
   "source": [
    "g = np.identity(3,dtype=int)\n",
    "print(g)"
   ]
  },
  {
   "cell_type": "code",
   "execution_count": 103,
   "metadata": {},
   "outputs": [
    {
     "name": "stdout",
     "output_type": "stream",
     "text": [
      "0.6376899983339558\n",
      "[[0.07267646 0.91716361 0.31818368]\n",
      " [0.07954518 0.29340115 0.81809046]]\n",
      "[[-0.32438638 -2.75131531 -0.44196229]\n",
      " [-1.24833592 -0.49833245 -0.68287155]]\n",
      "[-0.11754319  0.44828917 -0.40995411  1.07357788  1.80553737  0.96563787]\n",
      "0.627590831354785\n",
      "[0 0 1 0 1 1 0 1]\n",
      "[7 3 5 1 2 1 5 4 7 3 6 2 2 1 2 1 7 3]\n",
      "3.4444444444444446 3\n"
     ]
    },
    {
     "data": {
      "text/plain": [
       "dtype('float64')"
      ]
     },
     "execution_count": 103,
     "metadata": {},
     "output_type": "execute_result"
    }
   ],
   "source": [
    "r = np.random.rand()\n",
    "print(r)\n",
    "r = np.random.rand(2,3)\n",
    "print(r)\n",
    "r = np.random.randn(2,3) #normilized\n",
    "print(r)\n",
    "r = np.random.randn(6) #normilized\n",
    "print(r)\n",
    "avg = np.average(r)\n",
    "print(avg)\n",
    "\n",
    "r = np.random.randint(2,size=8)\n",
    "print(r)\n",
    "r = np.random.randint(1,8,size=18)\n",
    "print(r)\n",
    "avg = np.average(r)\n",
    "print(avg, avg.astype(int))\n",
    "avg.dtype"
   ]
  },
  {
   "cell_type": "code",
   "execution_count": 101,
   "metadata": {},
   "outputs": [
    {
     "name": "stdout",
     "output_type": "stream",
     "text": [
      "2\n",
      "(2, 3)\n",
      "[[0 0 0 0]\n",
      " [0 0 0 0]\n",
      " [0 0 0 0]] (3, 4)\n",
      "12 int32 4\n"
     ]
    }
   ],
   "source": [
    "n = np.array([[1,2,3],[4,5,6]])\n",
    "print(n.ndim)\n",
    "print(n.shape)\n",
    "n = np.zeros((3,4),dtype=\"int\")\n",
    "print(n, n.shape)\n",
    "print(n.size,n.dtype,n.itemsize)"
   ]
  },
  {
   "cell_type": "code",
   "execution_count": 111,
   "metadata": {},
   "outputs": [
    {
     "name": "stdout",
     "output_type": "stream",
     "text": [
      "[ 1  2  3  4  5  6  7  8  9 10]\n",
      "[2 3 4]\n",
      "[7 8 9]\n",
      "[ 7  8  9 10]\n",
      "10\n"
     ]
    }
   ],
   "source": [
    "a = np.arange(1,11)\n",
    "print(a)\n",
    "b = a[1:4]\n",
    "print(b)\n",
    "b = a[-4:-1]  #\n",
    "print(b)\n",
    "b = a[-4:]  # end of arange\n",
    "print(b)\n",
    "print(b[-1])"
   ]
  },
  {
   "cell_type": "code",
   "execution_count": 122,
   "metadata": {},
   "outputs": [
    {
     "name": "stdout",
     "output_type": "stream",
     "text": [
      "[[1 2 3]\n",
      " [4 5 6]\n",
      " [7 8 9]]\n",
      "6\n",
      "6\n",
      "[2 4]\n"
     ]
    }
   ],
   "source": [
    "c = np.array([[1,2,3],[4,5,6],[7,8,9]])\n",
    "print(c)\n",
    "print(c[1][2])\n",
    "print(c[-2][-1])\n"
   ]
  },
  {
   "cell_type": "code",
   "execution_count": 126,
   "metadata": {},
   "outputs": [
    {
     "name": "stdout",
     "output_type": "stream",
     "text": [
      "[ 1  2  3  4  5  6  7  8  9 10 11 12 13 14 15 16 17 18 19]\n",
      "[2 4 6 8]\n",
      "[13 15 17 19]\n"
     ]
    }
   ],
   "source": [
    "d = np.arange(1,20)\n",
    "print(d)\n",
    "print(d[1:8:2])\n",
    "print(d[12::2])"
   ]
  },
  {
   "cell_type": "code",
   "execution_count": 154,
   "metadata": {},
   "outputs": [
    {
     "name": "stdout",
     "output_type": "stream",
     "text": [
      "[[ 1  2  3  4  5]\n",
      " [ 6  7  8  9 10]\n",
      " [11 12 13 14 15]\n",
      " [16 17 18 19 20]]\n",
      "[ 3 11]\n",
      "[[ 7  8  9 10]\n",
      " [12 13 14 15]\n",
      " [17 18 19 20]]\n",
      "[[ 7  9]\n",
      " [12 14]\n",
      " [17 19]]\n",
      "[[ 2  4]\n",
      " [12 14]]\n"
     ]
    }
   ],
   "source": [
    "c = np.array([np.arange(1,6),np.arange(6,11),np.arange(11,16),np.arange(16,21)])\n",
    "print(c)\n",
    "print(c[[0,2],[2,0]])\n",
    "print(c[1:,1:])\n",
    "print(c[1:,1::2])\n",
    "print(c[::2,1::2])"
   ]
  },
  {
   "cell_type": "code",
   "execution_count": 145,
   "metadata": {},
   "outputs": [
    {
     "name": "stdout",
     "output_type": "stream",
     "text": [
      "[[ 1.  2.  3.  4.  5.]\n",
      " [ 6.  7.  8.  9. 10.]\n",
      " [11. 12. 13. 14. 15.]\n",
      " [16. 17. 18. 19. 20.]] [[ 1.2        2.4        3.6000001  4.8        6.       ]\n",
      " [ 7.2000003  8.400001   9.6       10.8       12.       ]\n",
      " [13.200001  14.400001  15.6       16.800001  18.       ]\n",
      " [19.2       20.400002  21.6       22.800001  24.       ]]\n",
      "[[[ 1.         2.         3.         4.         5.       ]\n",
      "  [ 6.         7.         8.         9.        10.       ]\n",
      "  [11.        12.        13.        14.        15.       ]\n",
      "  [16.        17.        18.        19.        20.       ]]\n",
      "\n",
      " [[ 1.2        2.4        3.6000001  4.8        6.       ]\n",
      "  [ 7.2000003  8.400001   9.6       10.8       12.       ]\n",
      "  [13.200001  14.400001  15.6       16.800001  18.       ]\n",
      "  [19.2       20.400002  21.6       22.800001  24.       ]]\n",
      "\n",
      " [[11.        12.        13.        14.        15.       ]\n",
      "  [16.        17.        18.        19.        20.       ]\n",
      "  [21.        22.        23.        24.        25.       ]\n",
      "  [26.        27.        28.        29.        30.       ]]]\n",
      "[[[13.200001 15.6      18.      ]\n",
      "  [19.2      21.6      24.      ]]]\n"
     ]
    }
   ],
   "source": [
    "a = np.array([np.arange(1,6),np.arange(6,11),np.arange(11,16),np.arange(16,21)],dtype='f')\n",
    "b = a*1.2\n",
    "c = a+10\n",
    "print(a,b)\n",
    "d = np.array([a,b,c])\n",
    "print(d)\n",
    "print(d[1:2:,2::,::2])"
   ]
  },
  {
   "cell_type": "code",
   "execution_count": 163,
   "metadata": {},
   "outputs": [
    {
     "name": "stdout",
     "output_type": "stream",
     "text": [
      "[ 1  2  3  4  5  6  7  8  9 10]\n",
      "[1 4 5]\n",
      "[2 5 6]\n",
      "[1 3 6 3 6 3 6 3 6]\n",
      "[[ 1  2  3  4  5]\n",
      " [ 6  7  8  9 10]\n",
      " [11 12 13 14 15]\n",
      " [16 17 18 19 20]]\n",
      "[[False False False False  True]\n",
      " [ True  True  True  True  True]\n",
      " [ True  True  True  True  True]\n",
      " [ True  True  True  True  True]]\n",
      "[ 9 10 11 12 13 14 15 16 17 18 19 20]\n"
     ]
    }
   ],
   "source": [
    "a = np.arange(1,11)\n",
    "print(a)\n",
    "index = np.array([1,4,5])\n",
    "print(index)\n",
    "print(a[index])\n",
    "print(a[[0,2,5,2,5,2,5,2,5]])\n",
    "\n",
    "c = np.array([np.arange(1,6),np.arange(6,11),np.arange(11,16),np.arange(16,21)])\n",
    "print(c)\n",
    "print(c>4)\n",
    "print(c[c>8])"
   ]
  },
  {
   "cell_type": "code",
   "execution_count": 169,
   "metadata": {},
   "outputs": [
    {
     "name": "stdout",
     "output_type": "stream",
     "text": [
      "[[0.20000005 0.4000001  0.60000014 0.8000002  1.        ]\n",
      " [1.2000003  1.4000006  1.6000004  1.8000002  2.        ]\n",
      " [2.2000008  2.4000006  2.6000004  2.8000011  3.        ]\n",
      " [3.2000008  3.4000015  3.6000004  3.8000011  4.        ]]\n",
      "[[1.2 1.2 1.2 1.2 1.2]\n",
      " [1.2 1.2 1.2 1.2 1.2]\n",
      " [1.2 1.2 1.2 1.2 1.2]\n",
      " [1.2 1.2 1.2 1.2 1.2]]\n",
      "[[1.2 1.2 1.2 1.2 1.2]\n",
      " [1.2 1.2 1.2 1.2 1.2]\n",
      " [1.2 1.2 1.2 1.2 1.2]\n",
      " [1.2 1.2 1.2 1.2 1.2]]\n",
      "[[  1.2        4.8       10.8       19.2       30.      ]\n",
      " [ 43.2       58.800003  76.8       97.200005 120.      ]\n",
      " [145.20001  172.8      202.8      235.20001  270.      ]\n",
      " [307.2      346.80002  388.80002  433.2      480.      ]]\n",
      "[[  1.2        4.8       10.8       19.2       30.      ]\n",
      " [ 43.2       58.800003  76.8       97.200005 120.      ]\n",
      " [145.20001  172.8      202.8      235.20001  270.      ]\n",
      " [307.2      346.80002  388.80002  433.2      480.      ]]\n"
     ]
    }
   ],
   "source": [
    "a = np.array([np.arange(1,6),np.arange(6,11),np.arange(11,16),np.arange(16,21)],dtype='f')\n",
    "b = a*1.2\n",
    "c = b-a\n",
    "print(c)\n",
    "d = b/a\n",
    "print(d)\n",
    "d = np.divide(b,a)\n",
    "print(d)\n",
    "d = a*b\n",
    "print(d)\n",
    "d = np.multiply(a,b)\n",
    "print(d)"
   ]
  },
  {
   "cell_type": "code",
   "execution_count": 181,
   "metadata": {},
   "outputs": [
    {
     "name": "stdout",
     "output_type": "stream",
     "text": [
      "[[11 22]\n",
      " [13 24]\n",
      " [15 26]]\n",
      "[[ 10  40]\n",
      " [ 30  80]\n",
      " [ 50 120]]\n",
      "[[10 20 30]\n",
      " [20 40 60]\n",
      " [30 60 90]]\n"
     ]
    }
   ],
   "source": [
    "a = np.array([[1,2],[3,4],[5,6]])\n",
    "b = np.array([10,20])\n",
    "c = a+b\n",
    "print(c)\n",
    "c = a*b\n",
    "print(c)\n",
    "a = np.array([[1],[2],[3]])\n",
    "b = np.array([10,20,30])\n",
    "print(a*b)"
   ]
  },
  {
   "cell_type": "code",
   "execution_count": 186,
   "metadata": {},
   "outputs": [
    {
     "name": "stdout",
     "output_type": "stream",
     "text": [
      "[[1 2]\n",
      " [3 4]\n",
      " [5 6]] (3, 2)\n",
      "[4 5] (2,)\n",
      "[[ 4 10]\n",
      " [12 20]\n",
      " [20 30]]\n"
     ]
    }
   ],
   "source": [
    "a = np.array([[1,2,3,4,5,6]])\n",
    "a = np.reshape(a, (3,2))\n",
    "b = np.array([4,5])\n",
    "print(a, a.shape)\n",
    "print(b, b.shape)\n",
    "c = a*b\n",
    "print(c)"
   ]
  },
  {
   "cell_type": "code",
   "execution_count": 209,
   "metadata": {},
   "outputs": [
    {
     "name": "stdout",
     "output_type": "stream",
     "text": [
      "[[1 2]\n",
      " [3 4]\n",
      " [5 6]\n",
      " [1 2]\n",
      " [3 4]]\n",
      "[1 2 3 4 5 6 1 2 3 4]\n",
      "[1 3 5 1 3 2 4 6 2 4]\n",
      "[[1 2]\n",
      " [3 4]\n",
      " [5 6]\n",
      " [1 2]\n",
      " [3 4]] [[1 2]\n",
      " [3 4]\n",
      " [5 6]\n",
      " [1 2]\n",
      " [3 4]]\n",
      "[1 2 3 4 5 6 1 2 3 4]\n",
      "[[1 2]\n",
      " [3 4]\n",
      " [5 6]\n",
      " [1 2]\n",
      " [3 4]] \n",
      " [[1 2]\n",
      " [3 4]\n",
      " [5 6]\n",
      " [1 2]\n",
      " [3 4]]\n"
     ]
    }
   ],
   "source": [
    "a = np.array([[1,2,3,4,5,6]])\n",
    "b = np.resize(a,(5,2))\n",
    "print(b)\n",
    "c = b.flatten()\n",
    "print(c)\n",
    "d = b.flatten(order=\"F\")\n",
    "print(d)\n",
    "d = np.reshape(d,(5,2),order=\"F\")\n",
    "print(d,b)\n",
    "d = np.ravel(b)\n",
    "print(d)\n",
    "d = np.reshape(d,(5,2))\n",
    "print(d,\"\\n\",b)"
   ]
  },
  {
   "cell_type": "code",
   "execution_count": 228,
   "metadata": {},
   "outputs": [
    {
     "name": "stdout",
     "output_type": "stream",
     "text": [
      "[[0 1]\n",
      " [2 3]\n",
      " [4 5]\n",
      " [6 7]\n",
      " [8 9]]\n",
      "[[0 2 4 6 8]\n",
      " [1 3 5 7 9]]\n",
      "[[[0 1 2 3]\n",
      "  [4 5 6 7]\n",
      "  [8 9 0 1]]\n",
      "\n",
      " [[2 3 4 5]\n",
      "  [6 7 8 9]\n",
      "  [0 1 2 3]]]\n",
      "[[[0 2]\n",
      "  [1 3]\n",
      "  [2 4]\n",
      "  [3 5]]\n",
      "\n",
      " [[4 6]\n",
      "  [5 7]\n",
      "  [6 8]\n",
      "  [7 9]]\n",
      "\n",
      " [[8 0]\n",
      "  [9 1]\n",
      "  [0 2]\n",
      "  [1 3]]]\n",
      "[[[0 4 8]\n",
      "  [1 5 9]\n",
      "  [2 6 0]\n",
      "  [3 7 1]]\n",
      "\n",
      " [[2 6 0]\n",
      "  [3 7 1]\n",
      "  [4 8 2]\n",
      "  [5 9 3]]]\n"
     ]
    }
   ],
   "source": [
    "a = np.arange(10).reshape(5,2)\n",
    "print(a)\n",
    "b = np.transpose(a)\n",
    "print(b)\n",
    "c = np.resize(a,(2,3,4))\n",
    "print(c)\n",
    "d = np.transpose(c, axes=(1,2,0))\n",
    "print(d)"
   ]
  },
  {
   "cell_type": "code",
   "execution_count": 244,
   "metadata": {},
   "outputs": [
    {
     "name": "stdout",
     "output_type": "stream",
     "text": [
      "[[0 1]\n",
      " [2 3]\n",
      " [4 5]\n",
      " [6 7]\n",
      " [8 9]]\n",
      "[[0 2 4 6 8]\n",
      " [1 3 5 7 9]]\n",
      "[[0 1 2 3]\n",
      " [4 5 6 7]\n",
      " [8 9 0 1]]\n",
      "[[0 4 8]\n",
      " [1 5 9]\n",
      " [2 6 0]\n",
      " [3 7 1]]\n"
     ]
    }
   ],
   "source": [
    "a = np.arange(10).reshape(5,2)\n",
    "print(a)\n",
    "print(a.T)\n",
    "a = np.resize(np.arange(10),(3,4))\n",
    "print(a)\n",
    "print(a.T)\n"
   ]
  },
  {
   "cell_type": "code",
   "execution_count": 265,
   "metadata": {},
   "outputs": [
    {
     "name": "stdout",
     "output_type": "stream",
     "text": [
      "[0 1 2] [3 4 5 6 7 8]\n",
      "[0 1 2 3 4 5 6 7 8] (9,)\n"
     ]
    }
   ],
   "source": [
    "a = np.arange(3)\n",
    "b = np.arange(3,9)\n",
    "print(a, b)\n",
    "c = np.concatenate((a,b))\n",
    "print(c,c.shape)"
   ]
  },
  {
   "cell_type": "code",
   "execution_count": 270,
   "metadata": {},
   "outputs": [
    {
     "name": "stdout",
     "output_type": "stream",
     "text": [
      "[[0 1 2]\n",
      " [3 4 5]] [[6 7 8]]\n",
      "[[0 1 2]\n",
      " [3 4 5]\n",
      " [6 7 8]] (3, 3)\n"
     ]
    }
   ],
   "source": [
    "a = np.arange(6).reshape(2,3)\n",
    "b = np.arange(6,9).reshape(1,3)\n",
    "print(a, b)\n",
    "c = np.concatenate((a,b))\n",
    "print(c,c.shape)"
   ]
  },
  {
   "cell_type": "code",
   "execution_count": 272,
   "metadata": {},
   "outputs": [
    {
     "name": "stdout",
     "output_type": "stream",
     "text": [
      "[[[ 0  1  2]\n",
      "  [ 3  4  5]]\n",
      "\n",
      " [[ 6  7  8]\n",
      "  [ 9 10 11]]\n",
      "\n",
      " [[12 13 14]\n",
      "  [15 16 17]]\n",
      "\n",
      " [[18 19 20]\n",
      "  [21 22 23]]] [[[60 61 62]\n",
      "  [63 64 65]]]\n",
      "[[[ 0  1  2]\n",
      "  [ 3  4  5]]\n",
      "\n",
      " [[ 6  7  8]\n",
      "  [ 9 10 11]]\n",
      "\n",
      " [[12 13 14]\n",
      "  [15 16 17]]\n",
      "\n",
      " [[18 19 20]\n",
      "  [21 22 23]]\n",
      "\n",
      " [[60 61 62]\n",
      "  [63 64 65]]] (5, 2, 3)\n"
     ]
    }
   ],
   "source": [
    "a = np.arange(24).reshape(4,2,3)\n",
    "b = np.arange(60,66).reshape(1,2,3)\n",
    "print(a, b)\n",
    "c = np.concatenate((a,b))\n",
    "print(c,c.shape)"
   ]
  },
  {
   "cell_type": "code",
   "execution_count": 296,
   "metadata": {},
   "outputs": [
    {
     "name": "stdout",
     "output_type": "stream",
     "text": [
      "(2, 2) (1, 2)\n",
      "[[1 2]\n",
      " [3 4]\n",
      " [5 6]]\n",
      "[[1 2]\n",
      " [3 4]\n",
      " [5 6]]\n",
      "[[1 2 5]\n",
      " [3 4 6]]\n",
      "[[1 2 5]\n",
      " [3 4 6]]\n"
     ]
    }
   ],
   "source": [
    "a = np.array([[1,2],[3,4]])\n",
    "b = np.array([[5,6]])\n",
    "print(a.shape, b.shape)\n",
    "c = np.concatenate((a,b),axis=0)\n",
    "print(c)\n",
    "c = np.vstack((a,b))\n",
    "print(c)\n",
    "c = np.concatenate((a,b.T),axis=1)\n",
    "print(c)\n",
    "c = np.hstack((a,b.T))\n",
    "print(c)"
   ]
  },
  {
   "cell_type": "code",
   "execution_count": 290,
   "metadata": {},
   "outputs": [
    {
     "name": "stdout",
     "output_type": "stream",
     "text": [
      "[ 0  1  2  3  4  5  6  7  8  9 10]\n",
      "[[ 6  7  8  9 10]\n",
      " [11 12 13 14 15]]\n"
     ]
    }
   ],
   "source": [
    "a = np.arange(6)\n",
    "b = np.arange(6,11)\n",
    "c = np.arange(11,16)\n",
    "\n",
    "d = np.hstack((a,b))\n",
    "print(d)\n",
    "e = np.vstack((b,c))\n",
    "print(e)"
   ]
  },
  {
   "cell_type": "code",
   "execution_count": 305,
   "metadata": {},
   "outputs": [
    {
     "name": "stdout",
     "output_type": "stream",
     "text": [
      "[ 0  1  2  3  4  5  6  7  8  9 10 11]\n",
      "[0 1 2 3] [4 5 6 7] [ 8  9 10 11]\n",
      "[[ 0  1  2  3]\n",
      " [ 4  5  6  7]\n",
      " [ 8  9 10 11]]\n",
      "[[0 1 2 3]] [[4 5 6 7]] [[ 8  9 10 11]]\n",
      "[[0]\n",
      " [4]\n",
      " [8]] [[1]\n",
      " [5]\n",
      " [9]] [[ 2]\n",
      " [ 6]\n",
      " [10]] [[ 3]\n",
      " [ 7]\n",
      " [11]]\n"
     ]
    }
   ],
   "source": [
    "a = np.arange(12)\n",
    "b,c,d = np.split(a,3)\n",
    "print(a)\n",
    "print(b,c,d)\n",
    "a = np.arange(12).reshape(3,4)\n",
    "b,c,d = np.split(a,3)\n",
    "print(a)\n",
    "print(b,c,d)\n",
    "b,c,d,e = np.hsplit(a,4)\n",
    "print(b,c,d,e)"
   ]
  },
  {
   "cell_type": "code",
   "execution_count": 317,
   "metadata": {},
   "outputs": [
    {
     "name": "stdout",
     "output_type": "stream",
     "text": [
      "[1 2 3 4 5 6 7] [11 12]\n",
      "[ 1  2  3 11 12  4  5  6  7]\n",
      "[ 1  2  3 11  4  5 12  6  7]\n"
     ]
    }
   ],
   "source": [
    "a = np.arange(1,8)\n",
    "b = np.arange(11,13)\n",
    "print(a,b)\n",
    "c = np.insert(a,3,b)\n",
    "print(c)\n",
    "c = np.insert(a,(3,5),b)\n",
    "print(c)"
   ]
  },
  {
   "cell_type": "code",
   "execution_count": 325,
   "metadata": {},
   "outputs": [
    {
     "name": "stdout",
     "output_type": "stream",
     "text": [
      "[[ 1  2  3  4]\n",
      " [ 5  6  7  8]\n",
      " [ 9 10 11 12]] [11 12 13]\n",
      "[ 1  2  3 11 12 13  4  5  6  7  8  9 10 11 12]\n",
      "[[ 1  2  3 11  4]\n",
      " [ 5  6  7 12  8]\n",
      " [ 9 10 11 13 12]]\n",
      "[[ 1  2  3  4]\n",
      " [ 5  6  7  8]\n",
      " [ 9 10 11 12]\n",
      " [50 50 50 50]]\n",
      "[[ 1  2  3 50  4]\n",
      " [ 5  6  7 50  8]\n",
      " [ 9 10 11 50 12]]\n"
     ]
    }
   ],
   "source": [
    "a = np.arange(1,13).reshape(3,4)\n",
    "b = np.arange(11,14)\n",
    "print(a,b)\n",
    "c = np.insert(a,3,b)\n",
    "print(c)\n",
    "c = np.insert(a,3,b,axis=1)\n",
    "print(c)\n",
    "c = np.insert(a,3,50,axis=0)\n",
    "print(c)\n",
    "c = np.insert(a,3,50,axis=1)\n",
    "print(c)"
   ]
  },
  {
   "cell_type": "code",
   "execution_count": 338,
   "metadata": {},
   "outputs": [
    {
     "name": "stdout",
     "output_type": "stream",
     "text": [
      "[[ 1  2  3  4]\n",
      " [ 5  6  7  8]\n",
      " [ 9 10 11 12]] [11 12 13]\n",
      "[ 1  2  3  4  5  6  7  8  9 10 11 12 11 12 13]\n",
      "[[ 1  2  3  4]\n",
      " [ 5  6  7  8]\n",
      " [ 9 10 11 12]] [11 12 13 14]\n",
      "[ 1  2  3  4  5  6  7  8  9 10 11 12 11 12 13 14]\n",
      "[[ 1  2  3  4]\n",
      " [ 5  6  7  8]\n",
      " [ 9 10 11 12]\n",
      " [11 12 13 14]]\n",
      "[[ 1  2  3  4]\n",
      " [ 9 10 11 12]\n",
      " [11 12 13 14]]\n"
     ]
    }
   ],
   "source": [
    "a = np.arange(1,13).reshape(3,4)\n",
    "b = np.arange(11,14)\n",
    "print(a,b)\n",
    "c = np.append(a,b.T)\n",
    "print(c)\n",
    "b = np.arange(11,15)\n",
    "print(a,b)\n",
    "c = np.append(a,b.T)\n",
    "print(c)\n",
    "c = np.append(a,b.reshape(1,4),axis=0)\n",
    "print(c)\n",
    "c = np.delete(c, 1, axis=0)\n",
    "print(c)"
   ]
  },
  {
   "cell_type": "code",
   "execution_count": 357,
   "metadata": {},
   "outputs": [
    {
     "name": "stdout",
     "output_type": "stream",
     "text": [
      "[[ 1  2  3  4]\n",
      " [ 5  6  7  8]\n",
      " [ 9 10 11 12]]\n",
      "[[1.  1.1 1.2 1.3]\n",
      " [1.4 1.5 1.6 1.7]\n",
      " [1.8 1.9 2.  2.1]]\n",
      "[[ 1.   2.2  3.6  5.2]\n",
      " [ 7.   9.  11.2 13.6]\n",
      " [16.2 19.  22.  25.2]]\n",
      "[[16.  17.  18. ]\n",
      " [39.2 41.8 44.4]\n",
      " [62.4 66.6 70.8]]\n"
     ]
    }
   ],
   "source": [
    "a = np.arange(1,13).reshape(3,4)\n",
    "b = np.arange(1,2.12,0.1).reshape(3,4)\n",
    "print(a),print(b)\n",
    "print(a*b)\n",
    "b = np.arange(1,2.12,0.1).reshape(4,3)\n",
    "c = a.dot(b)\n",
    "print(c)"
   ]
  },
  {
   "cell_type": "code",
   "execution_count": 362,
   "metadata": {},
   "outputs": [
    {
     "name": "stdout",
     "output_type": "stream",
     "text": [
      "[[1 2]\n",
      " [3 4]]\n",
      "[[1.2 2.2]\n",
      " [3.2 4.2]]\n",
      "[[2.2 4.2]\n",
      " [6.2 8.2]]\n",
      "[[ 7.6 10.6]\n",
      " [16.4 23.4]]\n"
     ]
    }
   ],
   "source": [
    "#matrix, only 2D\n",
    "a = np.matrix(\"1 2; 3 4\")\n",
    "print(a)\n",
    "b = np.matrix([[1.2,2.2],[3.2,4.2]])\n",
    "print(b)\n",
    "print(a+b)\n",
    "print(a*b)"
   ]
  },
  {
   "cell_type": "code",
   "execution_count": 370,
   "metadata": {},
   "outputs": [
    {
     "name": "stdout",
     "output_type": "stream",
     "text": [
      "[[ 1  2  3  4]\n",
      " [ 5  6  7  8]\n",
      " [ 9 10 11 12]]\n",
      "[[1.  1.1 1.2]\n",
      " [1.3 1.4 1.5]\n",
      " [1.6 1.7 1.8]\n",
      " [1.9 2.  2.1]]\n",
      "[[ 1  2  3  4]\n",
      " [ 5  6  7  8]\n",
      " [ 9 10 11 12]]\n",
      "[[1.  1.1 1.2]\n",
      " [1.3 1.4 1.5]\n",
      " [1.6 1.7 1.8]\n",
      " [1.9 2.  2.1]]\n",
      "[[16.  17.  18. ]\n",
      " [39.2 41.8 44.4]\n",
      " [62.4 66.6 70.8]]\n"
     ]
    }
   ],
   "source": [
    "a = np.arange(1,13).reshape(3,4)\n",
    "b = np.arange(1,2.12,0.1).reshape(4,3)\n",
    "print(a),print(b)\n",
    "c = np.matrix(a)\n",
    "d = np.matrix(b)\n",
    "print(c),print(d)\n",
    "e = c*d\n",
    "print(e)"
   ]
  },
  {
   "cell_type": "code",
   "execution_count": 374,
   "metadata": {},
   "outputs": [
    {
     "name": "stdout",
     "output_type": "stream",
     "text": [
      "[[16.  17.  18. ]\n",
      " [39.2 41.8 44.4]\n",
      " [62.4 66.6 70.8]]\n",
      "[[-4.69124961e+13  9.38249922e+13 -4.69124961e+13]\n",
      " [ 9.38249922e+13 -1.87649984e+14  9.38249922e+13]\n",
      " [-4.69124961e+13  9.38249922e+13 -4.69124961e+13]]\n",
      "[[ 0.91666667 -0.42708333 -0.06770833]\n",
      " [ 0.34166667  0.78541667 -0.38645833]\n",
      " [-0.275      -1.41875     1.253125  ]]\n",
      "[[-0.50833333 -1.75729167 -2.00625   ]\n",
      " [ 0.81666667  2.58958333  1.3625    ]\n",
      " [-0.24583333  0.25364583  0.753125  ]]\n"
     ]
    },
    {
     "data": {
      "text/plain": [
       "(None, None)"
      ]
     },
     "execution_count": 374,
     "metadata": {},
     "output_type": "execute_result"
    }
   ],
   "source": [
    "a = np.arange(1,13).reshape(3,4)\n",
    "b = np.arange(1,2.12,0.1).reshape(4,3)\n",
    "c = np.matrix(a)\n",
    "d = np.matrix(b)\n",
    "e = c*d\n",
    "print(e)\n",
    "i = np.linalg.inv(e)\n",
    "print(i)\n",
    "r = e*i\n",
    "print(e*i), print(i*e)"
   ]
  },
  {
   "cell_type": "code",
   "execution_count": 377,
   "metadata": {},
   "outputs": [
    {
     "name": "stdout",
     "output_type": "stream",
     "text": [
      "[[3 1]\n",
      " [1 2]] [9 8]\n"
     ]
    },
    {
     "data": {
      "text/plain": [
       "array([2., 3.])"
      ]
     },
     "execution_count": 377,
     "metadata": {},
     "output_type": "execute_result"
    }
   ],
   "source": [
    "a = np.array([[3,1],[1,2]])\n",
    "b = np.array([9,8])\n",
    "print(a,b)\n",
    "np.linalg.solve(a,b)"
   ]
  },
  {
   "cell_type": "code",
   "execution_count": 379,
   "metadata": {},
   "outputs": [
    {
     "name": "stdout",
     "output_type": "stream",
     "text": [
      "[[ 6  2 -5]\n",
      " [ 3  3 -2]\n",
      " [ 7  5 -3]] [13 13 26]\n"
     ]
    },
    {
     "data": {
      "text/plain": [
       "array([2., 3., 1.])"
      ]
     },
     "execution_count": 379,
     "metadata": {},
     "output_type": "execute_result"
    }
   ],
   "source": [
    "a = np.array([[6,2,-5],[3,3,-2],[7,5,-3]])\n",
    "b = np.array([13,13,26])\n",
    "print(a,b)\n",
    "np.linalg.solve(a,b)"
   ]
  },
  {
   "cell_type": "code",
   "execution_count": 380,
   "metadata": {},
   "outputs": [
    {
     "name": "stdout",
     "output_type": "stream",
     "text": [
      "[[ 6  2 -5]\n",
      " [ 3  3 -2]\n",
      " [ 7  5 -3]] [13 13 26]\n"
     ]
    },
    {
     "data": {
      "text/plain": [
       "26.000000000000004"
      ]
     },
     "execution_count": 380,
     "metadata": {},
     "output_type": "execute_result"
    }
   ],
   "source": [
    "a = np.array([[6,2,-5],[3,3,-2],[7,5,-3]])\n",
    "b = np.array([13,13,26])\n",
    "print(a,b)\n",
    "np.linalg.det(a)"
   ]
  },
  {
   "cell_type": "code",
   "execution_count": 67,
   "metadata": {},
   "outputs": [
    {
     "name": "stdout",
     "output_type": "stream",
     "text": [
      "[[11. 22. 33. 44. 55. 66. 77.]\n",
      " [21. 22. 23. 24. 25. 26. 27.]\n",
      " [31. 32. 33. 34. 35. 36. 37.]]\n",
      "[33. 44. 55. 66. 77. 31. 32. 33. 34. 35. 36. 37.]\n",
      "[[False False  True  True  True  True  True]\n",
      " [False False False False False False False]\n",
      " [ True  True  True  True  True  True  True]]\n"
     ]
    }
   ],
   "source": [
    "filedata = np.genfromtxt(\"data.txt\",delimiter=',')\n",
    "filedata.astype('int32')\n",
    "print(filedata)\n",
    "ret = filedata[filedata>30]\n",
    "print(ret)\n",
    "ret = filedata>30\n",
    "print(ret)"
   ]
  },
  {
   "cell_type": "code",
   "execution_count": 72,
   "metadata": {},
   "outputs": [
    {
     "name": "stdout",
     "output_type": "stream",
     "text": [
      "[[0.31758091 0.55757103 0.39240191 0.36132977 0.06073536]\n",
      " [0.68574644 0.8290788  0.44311049 0.46712977 0.07103421]]\n",
      "[[0. 0. 0. 0. 0.]\n",
      " [0. 0. 0. 0. 0.]]\n"
     ]
    }
   ],
   "source": [
    "a = np.random.rand(10).reshape(2,5)\n",
    "print(a)\n",
    "np.save(\"tmp.npy\",a)\n",
    "b = np.load(\"tmp.npy\")\n",
    "print(a-b)"
   ]
  },
  {
   "cell_type": "code",
   "execution_count": 16,
   "metadata": {},
   "outputs": [
    {
     "name": "stdout",
     "output_type": "stream",
     "text": [
      "[0.28489325 0.72944305 0.64683471 0.00125366 0.04909694 0.22176405\n",
      " 0.64479672 0.33969984 0.57031094 0.6320606 ]\n",
      "0.0641585110069762\n",
      "0.41201537729130244\n",
      "4.120153772913024\n"
     ]
    }
   ],
   "source": [
    "a = np.random.rand(10)\n",
    "print(a)\n",
    "b = np.var(a)\n",
    "print(b)\n",
    "c = np.mean(a)\n",
    "print(c)\n",
    "d = np.sum(a)\n",
    "print(d)"
   ]
  },
  {
   "cell_type": "code",
   "execution_count": 28,
   "metadata": {},
   "outputs": [
    {
     "name": "stdout",
     "output_type": "stream",
     "text": [
      "[-3.14159265 -3.11001886 -3.07844506] [-0.05483114 -0.05428007 -0.053729  ]\n",
      "3 4 5.0\n"
     ]
    },
    {
     "data": {
      "image/png": "[encoded data removed]",
      "text/plain": [
       "<Figure size 432x288 with 1 Axes>"
      ]
     },
     "metadata": {
      "needs_background": "light"
     },
     "output_type": "display_data"
    }
   ],
   "source": [
    "a = np.linspace(-np.pi, np.pi, 200)\n",
    "print(a[0:3], np.deg2rad(a[0:3]))\n",
    "plt.plot(a, np.sin(a))\n",
    "#plt.plot(a, np.tan(a))\n",
    "print(3,4,np.hypot(3,4))"
   ]
  },
  {
   "cell_type": "code",
   "execution_count": 3,
   "metadata": {},
   "outputs": [
    {
     "data": {
      "text/plain": [
       "[<matplotlib.lines.Line2D at 0x1bc00b43fc8>]"
      ]
     },
     "execution_count": 3,
     "metadata": {},
     "output_type": "execute_result"
    },
    {
     "data": {
      "image/png": "[encoded data removed]",
      "text/plain": [
       "<Figure size 432x288 with 1 Axes>"
      ]
     },
     "metadata": {
      "needs_background": "light"
     },
     "output_type": "display_data"
    }
   ],
   "source": [
    "x = np.linspace(-np.pi*2, np.pi*2,200)\n",
    "y = np.cos(x)\n",
    "import matplotlib.pylab as plb\n",
    "\n",
    "x = np.linspace(-np.pi*2, np.pi*2,200)\n",
    "plb.plot(x,y)"
   ]
  },
  {
   "cell_type": "code",
   "execution_count": 37,
   "metadata": {},
   "outputs": [
    {
     "name": "stdout",
     "output_type": "stream",
     "text": [
      "1\n",
      "36\n",
      "[ 0 26]\n"
     ]
    }
   ],
   "source": [
    "a = np.array([0,1])\n",
    "b = np.array([[1,2,3,4],[5,6,7,8]])\n",
    "c = np.einsum(\"i->\", a)\n",
    "print(c)\n",
    "c = np.einsum(\"ij->\", b)\n",
    "print(c)\n",
    "c = np.einsum(\"i,ij->i\", a,b)\n",
    "print(c)\n",
    "np.einsum?"
   ]
  },
  {
   "cell_type": "code",
   "execution_count": 51,
   "metadata": {},
   "outputs": [
    {
     "name": "stdout",
     "output_type": "stream",
     "text": [
      "[1 2 3 4] \n",
      " [1 2]\n",
      "10\n",
      "[[1 2]\n",
      " [2 4]\n",
      " [3 6]\n",
      " [4 8]]\n",
      "[[1 2 3 4]\n",
      " [2 4 6 8]]\n"
     ]
    }
   ],
   "source": [
    "a = np.arange(1,5)\n",
    "b = np.arange(1,3)\n",
    "print(a,\"\\n\",b)\n",
    "s = np.einsum('i->',a)\n",
    "print(s)\n",
    "c = np.einsum('i,j->ij', a, b)\n",
    "print(c)\n",
    "c = np.einsum('i,j->ij', b, a)\n",
    "print(c)"
   ]
  },
  {
   "cell_type": "code",
   "execution_count": 46,
   "metadata": {},
   "outputs": [
    {
     "name": "stdout",
     "output_type": "stream",
     "text": [
      "[[ 1  2  3]\n",
      " [ 4  5  6]\n",
      " [ 7  8  9]\n",
      " [10 11 12]] \n",
      " [[1 2]\n",
      " [3 4]\n",
      " [5 6]]\n",
      "[[ 22  28]\n",
      " [ 49  64]\n",
      " [ 76 100]\n",
      " [103 136]]\n"
     ]
    }
   ],
   "source": [
    "a = np.arange(1,13).reshape(4,3)\n",
    "b = np.arange(1,7).reshape(3,2)\n",
    "print(a,\"\\n\",b)\n",
    "c = np.einsum('ik,kj->ij', a, b)\n",
    "print(c)"
   ]
  },
  {
   "cell_type": "code",
   "execution_count": 60,
   "metadata": {},
   "outputs": [
    {
     "name": "stdout",
     "output_type": "stream",
     "text": [
      "[[1 2 3]\n",
      " [4 5 6]]\n",
      "[[1 4]\n",
      " [2 5]\n",
      " [3 6]]\n"
     ]
    }
   ],
   "source": [
    "a = np.arange(1,7).reshape(2,3)\n",
    "print(a)\n",
    "t = np.einsum('ij->ji',a)\n",
    "print(t)"
   ]
  },
  {
   "cell_type": "code",
   "execution_count": 63,
   "metadata": {},
   "outputs": [
    {
     "name": "stdout",
     "output_type": "stream",
     "text": [
      "(array([ 1.61168440e+01, -1.11684397e+00, -9.75918483e-16]), array([[-0.23197069, -0.78583024,  0.40824829],\n",
      "       [-0.52532209, -0.08675134, -0.81649658],\n",
      "       [-0.8186735 ,  0.61232756,  0.40824829]]))\n",
      "[ 1.61168440e+01 -1.11684397e+00 -9.75918483e-16]\n"
     ]
    }
   ],
   "source": [
    "a = np.arange(1,10).reshape(3,3)\n",
    "g = LA.eig(a)\n",
    "print(g)\n",
    "g = LA.eigvals(a)\n",
    "print(g)"
   ]
  },
  {
   "cell_type": "code",
   "execution_count": 65,
   "metadata": {},
   "outputs": [
    {
     "name": "stdout",
     "output_type": "stream",
     "text": [
      "[[ 3.15251974e+15 -6.30503948e+15  3.15251974e+15]\n",
      " [-6.30503948e+15  1.26100790e+16 -6.30503948e+15]\n",
      " [ 3.15251974e+15 -6.30503948e+15  3.15251974e+15]]\n",
      "[[ 0.   1.  -0.5]\n",
      " [ 0.   2.  -1. ]\n",
      " [ 0.   3.   2.5]]\n"
     ]
    }
   ],
   "source": [
    "a = np.arange(1,10).reshape(3,3)\n",
    "ai = LA.inv(a)\n",
    "print(ai)\n",
    "r = np.dot(a,ai)\n",
    "print(r)"
   ]
  },
  {
   "cell_type": "code",
   "execution_count": null,
   "metadata": {},
   "outputs": [],
   "source": []
  }
 ],
 "metadata": {
  "kernelspec": {
   "display_name": "tf-gpu",
   "language": "python",
   "name": "tf-gpu"
  },
  "language_info": {
   "codemirror_mode": {
    "name": "ipython",
    "version": 3
   },
   "file_extension": ".py",
   "mimetype": "text/x-python",
   "name": "python",
   "nbconvert_exporter": "python",
   "pygments_lexer": "ipython3",
   "version": "3.7.9"
  }
 },
 "nbformat": 4,
 "nbformat_minor": 4
}
